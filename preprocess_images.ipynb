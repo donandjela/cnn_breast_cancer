{
 "cells": [
  {
   "cell_type": "code",
   "execution_count": 1,
   "metadata": {},
   "outputs": [],
   "source": [
    "from PIL import  Image\n",
    "import Data_augmentation\n",
    "import Normalizer_SVD\n",
    "import os\n",
    "import numpy as np\n",
    "import time"
   ]
  },
  {
   "cell_type": "code",
   "execution_count": null,
   "metadata": {},
   "outputs": [],
   "source": [
    "#from google.colab import drive\n",
    "#drive.mount('/content/drive')"
   ]
  },
  {
   "cell_type": "code",
   "execution_count": 2,
   "metadata": {},
   "outputs": [],
   "source": [
    "def norm_transform(img, overlap = False):\n",
    "    #normalize input image\n",
    "    img_normalized, _, _ = Normalizer_SVD.normalize_stain(img)\n",
    "        \n",
    "    #patch input image\n",
    "    patches,_,_ = Data_augmentation.py_patch(img_normalized, overlap = overlap)\n",
    "\n",
    "    patches_transformed = []\n",
    "    # apply trasformations(mirror, rotation) to all patches\n",
    "    for patch in patches:\n",
    "        transformed_patch = Data_augmentation.transform(patch)\n",
    "        patches_transformed += transformed_patch\n",
    "            \n",
    "    return patches_transformed\n",
    "    "
   ]
  },
  {
   "cell_type": "code",
   "execution_count": 3,
   "metadata": {},
   "outputs": [],
   "source": [
    "\n",
    "def preprocess_train(target,path_in, path_save,\n",
    "               disp = False, data_type = 'Train'):\n",
    "\n",
    "    data = list(os.walk(path_in+\"/\"+target))[0][-1]\n",
    "    list_images =np.array([np.array(Image.open(img)) for img in data])\n",
    "        \n",
    "    for i,img in enumerate(list_images):\n",
    "        \n",
    "        patches_transformed = norm_transform(img, overlap = True)\n",
    "            \n",
    "        for count, patch in enumerate(patches_transformed):\n",
    "            \n",
    "            img_transformed = Image.fromarray(patch,'RGB')\n",
    "            img_transformed.save(path_save + data_type+'/'+target+'/t'+str(i)+'_'+str(count+1)+'.tif')\n",
    "            \n",
    "        if disp == True:\n",
    "            Data_augmentation.show_images(patches_transformed)\n",
    "    \n",
    "    target_list = [target for i in range(len(patches_transformed))]\n",
    "  \n",
    "    return patches_transformed, target_list\n",
    "   "
   ]
  },
  {
   "cell_type": "code",
   "execution_count": 4,
   "metadata": {},
   "outputs": [],
   "source": [
    "def preprocess_test(path_in, path_save):\n",
    "    \n",
    "    # dict: {img_name: ..., target: ...., set_type:...}\n",
    "    # set -> initial or extended\n",
    "   \n",
    "    file_labels = open(path_save + '/labels.txt','w')\n",
    "    \n",
    "    with open(path_in +'/labels.txt') as f:\n",
    "        \n",
    "        for line in f:\n",
    "            img_name, target, set_type = line.split()\n",
    "            \n",
    "            img = np.array(Image.open(path_in+'/'+img_name+'.tif'))\n",
    "            \n",
    "            patches_transformed = norm_transform(img, overlap = False)\n",
    "            \n",
    "            img_labels = []\n",
    "            for count, patch in enumerate(patches_transformed):\n",
    "            \n",
    "                img_transformed = Image.fromarray(patch,'RGB')\n",
    "                img_transformed.save(path_save + '/t'+img_name+'_'+str(count+1)+'.tif')\n",
    "                \n",
    "                file_labels.write(img_name+'_'+str(count+1)+'.tif '+target+' '+set_type) \n",
    "                file_labels.write('\\n')\n",
    "            \n",
    "    \n",
    "        file_labels.close()\n"
   ]
  },
  {
   "cell_type": "code",
   "execution_count": 1,
   "metadata": {},
   "outputs": [],
   "source": [
    "#start = time.time()\n",
    "#preprocess_train(...)\n",
    "#preproces_test(...)\n",
    "#end = time.time()\n",
    "\n",
    "#print(f'Execution time = {end - start}')"
   ]
  },
  {
   "cell_type": "code",
   "execution_count": null,
   "metadata": {},
   "outputs": [],
   "source": []
  }
 ],
 "metadata": {
  "kernelspec": {
   "display_name": "Python 3",
   "language": "python",
   "name": "python3"
  },
  "language_info": {
   "codemirror_mode": {
    "name": "ipython",
    "version": 3
   },
   "file_extension": ".py",
   "mimetype": "text/x-python",
   "name": "python",
   "nbconvert_exporter": "python",
   "pygments_lexer": "ipython3",
   "version": "3.6.5"
  }
 },
 "nbformat": 4,
 "nbformat_minor": 2
}
